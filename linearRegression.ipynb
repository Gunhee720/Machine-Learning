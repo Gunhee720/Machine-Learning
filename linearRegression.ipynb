{
 "cells": [
  {
   "cell_type": "code",
   "execution_count": 2,
   "id": "5e2f6f10",
   "metadata": {
    "ExecuteTime": {
     "end_time": "2024-12-12T03:42:07.369502Z",
     "start_time": "2024-12-12T03:42:07.339346Z"
    }
   },
   "outputs": [
    {
     "data": {
      "text/html": [
       "<div>\n",
       "<style scoped>\n",
       "    .dataframe tbody tr th:only-of-type {\n",
       "        vertical-align: middle;\n",
       "    }\n",
       "\n",
       "    .dataframe tbody tr th {\n",
       "        vertical-align: top;\n",
       "    }\n",
       "\n",
       "    .dataframe thead th {\n",
       "        text-align: right;\n",
       "    }\n",
       "</style>\n",
       "<table border=\"1\" class=\"dataframe\">\n",
       "  <thead>\n",
       "    <tr style=\"text-align: right;\">\n",
       "      <th></th>\n",
       "      <th>Serial No.</th>\n",
       "      <th>GRE Score</th>\n",
       "      <th>TOEFL Score</th>\n",
       "      <th>University Rating</th>\n",
       "      <th>SOP</th>\n",
       "      <th>LOR</th>\n",
       "      <th>CGPA</th>\n",
       "      <th>Research</th>\n",
       "      <th>Chance of Admit</th>\n",
       "    </tr>\n",
       "  </thead>\n",
       "  <tbody>\n",
       "    <tr>\n",
       "      <th>0</th>\n",
       "      <td>1</td>\n",
       "      <td>337</td>\n",
       "      <td>118</td>\n",
       "      <td>4</td>\n",
       "      <td>4.5</td>\n",
       "      <td>4.5</td>\n",
       "      <td>9.65</td>\n",
       "      <td>1</td>\n",
       "      <td>0.92</td>\n",
       "    </tr>\n",
       "    <tr>\n",
       "      <th>1</th>\n",
       "      <td>2</td>\n",
       "      <td>324</td>\n",
       "      <td>107</td>\n",
       "      <td>4</td>\n",
       "      <td>4.0</td>\n",
       "      <td>4.5</td>\n",
       "      <td>8.87</td>\n",
       "      <td>1</td>\n",
       "      <td>0.76</td>\n",
       "    </tr>\n",
       "    <tr>\n",
       "      <th>2</th>\n",
       "      <td>3</td>\n",
       "      <td>316</td>\n",
       "      <td>104</td>\n",
       "      <td>3</td>\n",
       "      <td>3.0</td>\n",
       "      <td>3.5</td>\n",
       "      <td>8.00</td>\n",
       "      <td>1</td>\n",
       "      <td>0.72</td>\n",
       "    </tr>\n",
       "    <tr>\n",
       "      <th>3</th>\n",
       "      <td>4</td>\n",
       "      <td>322</td>\n",
       "      <td>110</td>\n",
       "      <td>3</td>\n",
       "      <td>3.5</td>\n",
       "      <td>2.5</td>\n",
       "      <td>8.67</td>\n",
       "      <td>1</td>\n",
       "      <td>0.80</td>\n",
       "    </tr>\n",
       "    <tr>\n",
       "      <th>4</th>\n",
       "      <td>5</td>\n",
       "      <td>314</td>\n",
       "      <td>103</td>\n",
       "      <td>2</td>\n",
       "      <td>2.0</td>\n",
       "      <td>3.0</td>\n",
       "      <td>8.21</td>\n",
       "      <td>0</td>\n",
       "      <td>0.65</td>\n",
       "    </tr>\n",
       "  </tbody>\n",
       "</table>\n",
       "</div>"
      ],
      "text/plain": [
       "   Serial No.  GRE Score  TOEFL Score  University Rating  SOP  LOR   CGPA  \\\n",
       "0           1        337          118                  4  4.5   4.5  9.65   \n",
       "1           2        324          107                  4  4.0   4.5  8.87   \n",
       "2           3        316          104                  3  3.0   3.5  8.00   \n",
       "3           4        322          110                  3  3.5   2.5  8.67   \n",
       "4           5        314          103                  2  2.0   3.0  8.21   \n",
       "\n",
       "   Research  Chance of Admit   \n",
       "0         1              0.92  \n",
       "1         1              0.76  \n",
       "2         1              0.72  \n",
       "3         1              0.80  \n",
       "4         0              0.65  "
      ]
     },
     "execution_count": 2,
     "metadata": {},
     "output_type": "execute_result"
    }
   ],
   "source": [
    "import pandas as pd\n",
    "df = pd.read_csv('admission_predict.csv',sep=',')\n",
    "df.head()"
   ]
  },
  {
   "cell_type": "code",
   "execution_count": 13,
   "id": "ae2b8dd3",
   "metadata": {
    "ExecuteTime": {
     "end_time": "2024-12-12T03:46:43.009360Z",
     "start_time": "2024-12-12T03:46:42.980783Z"
    }
   },
   "outputs": [
    {
     "name": "stdout",
     "output_type": "stream",
     "text": [
      "(320, 8)\n",
      "(320,)\n",
      "(80,)\n"
     ]
    }
   ],
   "source": [
    "from sklearn.model_selection import train_test_split\n",
    "\n",
    "x = df.drop([\"Chance of Admit \"],axis=1)\n",
    "y = df[\"Chance of Admit \"]\n",
    "\n",
    "train_x , test_x , train_y , test_y = train_test_split(x,y,test_size=0.2)\n",
    "\n",
    "print(train_x.shape)\n",
    "print(train_y.shape)\n",
    "print(test_y.shape)"
   ]
  },
  {
   "cell_type": "code",
   "execution_count": 37,
   "id": "120a4c46",
   "metadata": {
    "ExecuteTime": {
     "end_time": "2024-12-12T03:57:27.925792Z",
     "start_time": "2024-12-12T03:57:27.887445Z"
    }
   },
   "outputs": [
    {
     "name": "stdout",
     "output_type": "stream",
     "text": [
      "[0.61385798 0.47667088 0.63544512 0.52393348 0.60536672 0.53362621\n",
      " 0.83163213 0.63318004 0.8239998  0.66901197 0.5798755  0.76068125\n",
      " 0.64170156 0.71196911 0.80069344 0.81246416 0.65071656 0.97847302\n",
      " 0.42032695 0.53128673 0.77170439 0.92070821 0.96455853 0.52607735\n",
      " 0.57069757 0.67127303 0.76415822 0.83029049 0.76623671 0.87703577\n",
      " 0.59665697 0.65795926 0.76259188 0.64445462 0.9563302  0.53186467\n",
      " 0.56920088 0.81956637 0.65929119 0.69376806 0.97331993 0.81238217\n",
      " 0.69995287 0.83767627 0.58025702 0.56021513 0.90630239 0.56635529\n",
      " 0.81740621 0.7125942  0.71359498 0.64439855 0.84705256 0.79555825\n",
      " 0.71527127 0.78589141 0.46750141 0.92983434 0.6618585  0.76474096\n",
      " 0.88936861 0.55063667 0.86096034 0.8026542  0.65406812 0.71259516\n",
      " 0.93108902 0.64442889 0.63830575 0.60500157 0.72198181 0.84666444\n",
      " 0.74581016 0.87162987 0.9425272  0.73216305 0.91276376 0.8039691\n",
      " 0.60392475 0.75429981]\n",
      "0.0041098483333372625\n",
      "0.8202269690201023\n",
      "0.8102513819512966\n"
     ]
    }
   ],
   "source": [
    "from sklearn.metrics import mean_squared_error\n",
    "from sklearn.linear_model import LinearRegression\n",
    "\n",
    "import numpy as np\n",
    "\n",
    "model = LinearRegression()\n",
    "model.fit(train_x,train_y)\n",
    "pred = model.predict(test_x)\n",
    "print(pred)\n",
    "print(mean_squared_error(test_y,pred))\n",
    "\n",
    "print(model.score(train_x,train_y))\n",
    "print(model.score(test_x,test_y))"
   ]
  },
  {
   "cell_type": "code",
   "execution_count": 36,
   "id": "bfd8db74",
   "metadata": {
    "ExecuteTime": {
     "end_time": "2024-12-12T03:56:34.742587Z",
     "start_time": "2024-12-12T03:56:34.717578Z"
    }
   },
   "outputs": [
    {
     "name": "stdout",
     "output_type": "stream",
     "text": [
      "Serial No.           326.00\n",
      "GRE Score            326.00\n",
      "TOEFL Score          116.00\n",
      "University Rating      3.00\n",
      "SOP                    3.50\n",
      "LOR                    4.00\n",
      "CGPA                   9.14\n",
      "Research               1.00\n",
      "Name: 325, dtype: float64\n",
      "[0.00015027 0.002147   0.00339156 0.00630684 0.00041364 0.02196354\n",
      " 0.10533577 0.0244464 ]\n",
      "-1.3644538029997035\n",
      "---\n",
      "0.8733159273979954\n"
     ]
    }
   ],
   "source": [
    "print(train_x.iloc[0])\n",
    "print(model.coef_)\n",
    "print(model.intercept_)\n",
    "print(\"---\")\n",
    "print((model.coef_.T@train_x.iloc[0])+model.intercept_)"
   ]
  },
  {
   "cell_type": "code",
   "execution_count": null,
   "id": "4b5ae831",
   "metadata": {},
   "outputs": [],
   "source": []
  }
 ],
 "metadata": {
  "kernelspec": {
   "display_name": "Python 3 (ipykernel)",
   "language": "python",
   "name": "python3"
  },
  "language_info": {
   "codemirror_mode": {
    "name": "ipython",
    "version": 3
   },
   "file_extension": ".py",
   "mimetype": "text/x-python",
   "name": "python",
   "nbconvert_exporter": "python",
   "pygments_lexer": "ipython3",
   "version": "3.9.13"
  }
 },
 "nbformat": 4,
 "nbformat_minor": 5
}
