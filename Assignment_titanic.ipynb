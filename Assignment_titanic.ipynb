{
 "cells": [
  {
   "cell_type": "code",
   "execution_count": 7,
   "id": "1972c675",
   "metadata": {
    "ExecuteTime": {
     "end_time": "2024-12-11T05:31:33.680534Z",
     "start_time": "2024-12-11T05:31:31.282245Z"
    }
   },
   "outputs": [],
   "source": [
    "import pandas as pd\n",
    "import numpy as np\n",
    "import matplotlib.pyplot as plt\n",
    "import seaborn as sns\n",
    "\n",
    "import warnings\n",
    "warnings.filterwarnings(\"ignore\")"
   ]
  },
  {
   "cell_type": "code",
   "execution_count": 8,
   "id": "20f603d4",
   "metadata": {
    "ExecuteTime": {
     "end_time": "2024-12-11T05:31:33.710701Z",
     "start_time": "2024-12-11T05:31:33.683487Z"
    }
   },
   "outputs": [],
   "source": [
    "df_train = pd.read_csv(\"train.csv\")\n",
    "df_test = pd.read_csv(\"test.csv\")"
   ]
  },
  {
   "cell_type": "code",
   "execution_count": 9,
   "id": "9d911daf",
   "metadata": {
    "ExecuteTime": {
     "end_time": "2024-12-11T05:31:33.756367Z",
     "start_time": "2024-12-11T05:31:33.713741Z"
    }
   },
   "outputs": [
    {
     "data": {
      "text/html": [
       "<div>\n",
       "<style scoped>\n",
       "    .dataframe tbody tr th:only-of-type {\n",
       "        vertical-align: middle;\n",
       "    }\n",
       "\n",
       "    .dataframe tbody tr th {\n",
       "        vertical-align: top;\n",
       "    }\n",
       "\n",
       "    .dataframe thead th {\n",
       "        text-align: right;\n",
       "    }\n",
       "</style>\n",
       "<table border=\"1\" class=\"dataframe\">\n",
       "  <thead>\n",
       "    <tr style=\"text-align: right;\">\n",
       "      <th></th>\n",
       "      <th>PassengerId</th>\n",
       "      <th>Survived</th>\n",
       "      <th>Pclass</th>\n",
       "      <th>Name</th>\n",
       "      <th>Sex</th>\n",
       "      <th>Age</th>\n",
       "      <th>SibSp</th>\n",
       "      <th>Parch</th>\n",
       "      <th>Ticket</th>\n",
       "      <th>Fare</th>\n",
       "      <th>Cabin</th>\n",
       "      <th>Embarked</th>\n",
       "    </tr>\n",
       "  </thead>\n",
       "  <tbody>\n",
       "    <tr>\n",
       "      <th>0</th>\n",
       "      <td>1</td>\n",
       "      <td>0</td>\n",
       "      <td>3</td>\n",
       "      <td>Braund, Mr. Owen Harris</td>\n",
       "      <td>male</td>\n",
       "      <td>22.0</td>\n",
       "      <td>1</td>\n",
       "      <td>0</td>\n",
       "      <td>A/5 21171</td>\n",
       "      <td>7.2500</td>\n",
       "      <td>NaN</td>\n",
       "      <td>S</td>\n",
       "    </tr>\n",
       "    <tr>\n",
       "      <th>1</th>\n",
       "      <td>2</td>\n",
       "      <td>1</td>\n",
       "      <td>1</td>\n",
       "      <td>Cumings, Mrs. John Bradley (Florence Briggs Th...</td>\n",
       "      <td>female</td>\n",
       "      <td>38.0</td>\n",
       "      <td>1</td>\n",
       "      <td>0</td>\n",
       "      <td>PC 17599</td>\n",
       "      <td>71.2833</td>\n",
       "      <td>C85</td>\n",
       "      <td>C</td>\n",
       "    </tr>\n",
       "    <tr>\n",
       "      <th>2</th>\n",
       "      <td>3</td>\n",
       "      <td>1</td>\n",
       "      <td>3</td>\n",
       "      <td>Heikkinen, Miss. Laina</td>\n",
       "      <td>female</td>\n",
       "      <td>26.0</td>\n",
       "      <td>0</td>\n",
       "      <td>0</td>\n",
       "      <td>STON/O2. 3101282</td>\n",
       "      <td>7.9250</td>\n",
       "      <td>NaN</td>\n",
       "      <td>S</td>\n",
       "    </tr>\n",
       "    <tr>\n",
       "      <th>3</th>\n",
       "      <td>4</td>\n",
       "      <td>1</td>\n",
       "      <td>1</td>\n",
       "      <td>Futrelle, Mrs. Jacques Heath (Lily May Peel)</td>\n",
       "      <td>female</td>\n",
       "      <td>35.0</td>\n",
       "      <td>1</td>\n",
       "      <td>0</td>\n",
       "      <td>113803</td>\n",
       "      <td>53.1000</td>\n",
       "      <td>C123</td>\n",
       "      <td>S</td>\n",
       "    </tr>\n",
       "    <tr>\n",
       "      <th>4</th>\n",
       "      <td>5</td>\n",
       "      <td>0</td>\n",
       "      <td>3</td>\n",
       "      <td>Allen, Mr. William Henry</td>\n",
       "      <td>male</td>\n",
       "      <td>35.0</td>\n",
       "      <td>0</td>\n",
       "      <td>0</td>\n",
       "      <td>373450</td>\n",
       "      <td>8.0500</td>\n",
       "      <td>NaN</td>\n",
       "      <td>S</td>\n",
       "    </tr>\n",
       "    <tr>\n",
       "      <th>...</th>\n",
       "      <td>...</td>\n",
       "      <td>...</td>\n",
       "      <td>...</td>\n",
       "      <td>...</td>\n",
       "      <td>...</td>\n",
       "      <td>...</td>\n",
       "      <td>...</td>\n",
       "      <td>...</td>\n",
       "      <td>...</td>\n",
       "      <td>...</td>\n",
       "      <td>...</td>\n",
       "      <td>...</td>\n",
       "    </tr>\n",
       "    <tr>\n",
       "      <th>794</th>\n",
       "      <td>795</td>\n",
       "      <td>0</td>\n",
       "      <td>3</td>\n",
       "      <td>Dantcheff, Mr. Ristiu</td>\n",
       "      <td>male</td>\n",
       "      <td>25.0</td>\n",
       "      <td>0</td>\n",
       "      <td>0</td>\n",
       "      <td>349203</td>\n",
       "      <td>7.8958</td>\n",
       "      <td>NaN</td>\n",
       "      <td>S</td>\n",
       "    </tr>\n",
       "    <tr>\n",
       "      <th>795</th>\n",
       "      <td>796</td>\n",
       "      <td>0</td>\n",
       "      <td>2</td>\n",
       "      <td>Otter, Mr. Richard</td>\n",
       "      <td>male</td>\n",
       "      <td>39.0</td>\n",
       "      <td>0</td>\n",
       "      <td>0</td>\n",
       "      <td>28213</td>\n",
       "      <td>13.0000</td>\n",
       "      <td>NaN</td>\n",
       "      <td>S</td>\n",
       "    </tr>\n",
       "    <tr>\n",
       "      <th>796</th>\n",
       "      <td>797</td>\n",
       "      <td>1</td>\n",
       "      <td>1</td>\n",
       "      <td>Leader, Dr. Alice (Farnham)</td>\n",
       "      <td>female</td>\n",
       "      <td>49.0</td>\n",
       "      <td>0</td>\n",
       "      <td>0</td>\n",
       "      <td>17465</td>\n",
       "      <td>25.9292</td>\n",
       "      <td>D17</td>\n",
       "      <td>S</td>\n",
       "    </tr>\n",
       "    <tr>\n",
       "      <th>797</th>\n",
       "      <td>798</td>\n",
       "      <td>1</td>\n",
       "      <td>3</td>\n",
       "      <td>Osman, Mrs. Mara</td>\n",
       "      <td>female</td>\n",
       "      <td>31.0</td>\n",
       "      <td>0</td>\n",
       "      <td>0</td>\n",
       "      <td>349244</td>\n",
       "      <td>8.6833</td>\n",
       "      <td>NaN</td>\n",
       "      <td>S</td>\n",
       "    </tr>\n",
       "    <tr>\n",
       "      <th>798</th>\n",
       "      <td>799</td>\n",
       "      <td>0</td>\n",
       "      <td>3</td>\n",
       "      <td>Ibrahim Shawah, Mr. Yousseff</td>\n",
       "      <td>male</td>\n",
       "      <td>30.0</td>\n",
       "      <td>0</td>\n",
       "      <td>0</td>\n",
       "      <td>2685</td>\n",
       "      <td>7.2292</td>\n",
       "      <td>NaN</td>\n",
       "      <td>C</td>\n",
       "    </tr>\n",
       "  </tbody>\n",
       "</table>\n",
       "<p>799 rows × 12 columns</p>\n",
       "</div>"
      ],
      "text/plain": [
       "     PassengerId  Survived  Pclass  \\\n",
       "0              1         0       3   \n",
       "1              2         1       1   \n",
       "2              3         1       3   \n",
       "3              4         1       1   \n",
       "4              5         0       3   \n",
       "..           ...       ...     ...   \n",
       "794          795         0       3   \n",
       "795          796         0       2   \n",
       "796          797         1       1   \n",
       "797          798         1       3   \n",
       "798          799         0       3   \n",
       "\n",
       "                                                  Name     Sex   Age  SibSp  \\\n",
       "0                              Braund, Mr. Owen Harris    male  22.0      1   \n",
       "1    Cumings, Mrs. John Bradley (Florence Briggs Th...  female  38.0      1   \n",
       "2                               Heikkinen, Miss. Laina  female  26.0      0   \n",
       "3         Futrelle, Mrs. Jacques Heath (Lily May Peel)  female  35.0      1   \n",
       "4                             Allen, Mr. William Henry    male  35.0      0   \n",
       "..                                                 ...     ...   ...    ...   \n",
       "794                              Dantcheff, Mr. Ristiu    male  25.0      0   \n",
       "795                                 Otter, Mr. Richard    male  39.0      0   \n",
       "796                        Leader, Dr. Alice (Farnham)  female  49.0      0   \n",
       "797                                   Osman, Mrs. Mara  female  31.0      0   \n",
       "798                       Ibrahim Shawah, Mr. Yousseff    male  30.0      0   \n",
       "\n",
       "     Parch            Ticket     Fare Cabin Embarked  \n",
       "0        0         A/5 21171   7.2500   NaN        S  \n",
       "1        0          PC 17599  71.2833   C85        C  \n",
       "2        0  STON/O2. 3101282   7.9250   NaN        S  \n",
       "3        0            113803  53.1000  C123        S  \n",
       "4        0            373450   8.0500   NaN        S  \n",
       "..     ...               ...      ...   ...      ...  \n",
       "794      0            349203   7.8958   NaN        S  \n",
       "795      0             28213  13.0000   NaN        S  \n",
       "796      0             17465  25.9292   D17        S  \n",
       "797      0            349244   8.6833   NaN        S  \n",
       "798      0              2685   7.2292   NaN        C  \n",
       "\n",
       "[799 rows x 12 columns]"
      ]
     },
     "execution_count": 9,
     "metadata": {},
     "output_type": "execute_result"
    }
   ],
   "source": [
    "df_train"
   ]
  },
  {
   "cell_type": "code",
   "execution_count": 160,
   "id": "16ee73f0",
   "metadata": {
    "ExecuteTime": {
     "end_time": "2024-12-02T11:25:37.587181Z",
     "start_time": "2024-12-02T11:25:37.577147Z"
    }
   },
   "outputs": [
    {
     "data": {
      "text/plain": [
       "PassengerId     0\n",
       "Pclass          0\n",
       "Name            0\n",
       "Sex             0\n",
       "Age            14\n",
       "SibSp           0\n",
       "Parch           0\n",
       "Ticket          0\n",
       "Fare            0\n",
       "Cabin          73\n",
       "Embarked        1\n",
       "dtype: int64"
      ]
     },
     "execution_count": 160,
     "metadata": {},
     "output_type": "execute_result"
    }
   ],
   "source": [
    "df_test.isnull().sum()"
   ]
  },
  {
   "cell_type": "code",
   "execution_count": 161,
   "id": "de5c218f",
   "metadata": {
    "ExecuteTime": {
     "end_time": "2024-12-02T11:25:38.616148Z",
     "start_time": "2024-12-02T11:25:38.583279Z"
    }
   },
   "outputs": [
    {
     "data": {
      "text/html": [
       "<div>\n",
       "<style scoped>\n",
       "    .dataframe tbody tr th:only-of-type {\n",
       "        vertical-align: middle;\n",
       "    }\n",
       "\n",
       "    .dataframe tbody tr th {\n",
       "        vertical-align: top;\n",
       "    }\n",
       "\n",
       "    .dataframe thead th {\n",
       "        text-align: right;\n",
       "    }\n",
       "</style>\n",
       "<table border=\"1\" class=\"dataframe\">\n",
       "  <thead>\n",
       "    <tr style=\"text-align: right;\">\n",
       "      <th></th>\n",
       "      <th>PassengerId</th>\n",
       "      <th>Pclass</th>\n",
       "      <th>Name</th>\n",
       "      <th>Sex</th>\n",
       "      <th>Age</th>\n",
       "      <th>SibSp</th>\n",
       "      <th>Parch</th>\n",
       "      <th>Ticket</th>\n",
       "      <th>Fare</th>\n",
       "      <th>Cabin</th>\n",
       "      <th>Embarked</th>\n",
       "    </tr>\n",
       "  </thead>\n",
       "  <tbody>\n",
       "    <tr>\n",
       "      <th>0</th>\n",
       "      <td>800</td>\n",
       "      <td>3</td>\n",
       "      <td>Van Impe, Mrs. Jean Baptiste (Rosalie Paula Go...</td>\n",
       "      <td>female</td>\n",
       "      <td>30.00</td>\n",
       "      <td>1</td>\n",
       "      <td>1</td>\n",
       "      <td>345773</td>\n",
       "      <td>24.1500</td>\n",
       "      <td>NaN</td>\n",
       "      <td>S</td>\n",
       "    </tr>\n",
       "    <tr>\n",
       "      <th>1</th>\n",
       "      <td>801</td>\n",
       "      <td>2</td>\n",
       "      <td>Ponesell, Mr. Martin</td>\n",
       "      <td>male</td>\n",
       "      <td>34.00</td>\n",
       "      <td>0</td>\n",
       "      <td>0</td>\n",
       "      <td>250647</td>\n",
       "      <td>13.0000</td>\n",
       "      <td>NaN</td>\n",
       "      <td>S</td>\n",
       "    </tr>\n",
       "    <tr>\n",
       "      <th>2</th>\n",
       "      <td>802</td>\n",
       "      <td>2</td>\n",
       "      <td>Collyer, Mrs. Harvey (Charlotte Annie Tate)</td>\n",
       "      <td>female</td>\n",
       "      <td>31.00</td>\n",
       "      <td>1</td>\n",
       "      <td>1</td>\n",
       "      <td>C.A. 31921</td>\n",
       "      <td>26.2500</td>\n",
       "      <td>NaN</td>\n",
       "      <td>S</td>\n",
       "    </tr>\n",
       "    <tr>\n",
       "      <th>3</th>\n",
       "      <td>803</td>\n",
       "      <td>1</td>\n",
       "      <td>Carter, Master. William Thornton II</td>\n",
       "      <td>male</td>\n",
       "      <td>11.00</td>\n",
       "      <td>1</td>\n",
       "      <td>2</td>\n",
       "      <td>113760</td>\n",
       "      <td>120.0000</td>\n",
       "      <td>B96 B98</td>\n",
       "      <td>S</td>\n",
       "    </tr>\n",
       "    <tr>\n",
       "      <th>4</th>\n",
       "      <td>804</td>\n",
       "      <td>3</td>\n",
       "      <td>Thomas, Master. Assad Alexander</td>\n",
       "      <td>male</td>\n",
       "      <td>0.42</td>\n",
       "      <td>0</td>\n",
       "      <td>1</td>\n",
       "      <td>2625</td>\n",
       "      <td>8.5167</td>\n",
       "      <td>NaN</td>\n",
       "      <td>C</td>\n",
       "    </tr>\n",
       "    <tr>\n",
       "      <th>...</th>\n",
       "      <td>...</td>\n",
       "      <td>...</td>\n",
       "      <td>...</td>\n",
       "      <td>...</td>\n",
       "      <td>...</td>\n",
       "      <td>...</td>\n",
       "      <td>...</td>\n",
       "      <td>...</td>\n",
       "      <td>...</td>\n",
       "      <td>...</td>\n",
       "      <td>...</td>\n",
       "    </tr>\n",
       "    <tr>\n",
       "      <th>87</th>\n",
       "      <td>887</td>\n",
       "      <td>2</td>\n",
       "      <td>Montvila, Rev. Juozas</td>\n",
       "      <td>male</td>\n",
       "      <td>27.00</td>\n",
       "      <td>0</td>\n",
       "      <td>0</td>\n",
       "      <td>211536</td>\n",
       "      <td>13.0000</td>\n",
       "      <td>NaN</td>\n",
       "      <td>S</td>\n",
       "    </tr>\n",
       "    <tr>\n",
       "      <th>88</th>\n",
       "      <td>888</td>\n",
       "      <td>1</td>\n",
       "      <td>Graham, Miss. Margaret Edith</td>\n",
       "      <td>female</td>\n",
       "      <td>19.00</td>\n",
       "      <td>0</td>\n",
       "      <td>0</td>\n",
       "      <td>112053</td>\n",
       "      <td>30.0000</td>\n",
       "      <td>B42</td>\n",
       "      <td>S</td>\n",
       "    </tr>\n",
       "    <tr>\n",
       "      <th>89</th>\n",
       "      <td>889</td>\n",
       "      <td>3</td>\n",
       "      <td>Johnston, Miss. Catherine Helen \"Carrie\"</td>\n",
       "      <td>female</td>\n",
       "      <td>NaN</td>\n",
       "      <td>1</td>\n",
       "      <td>2</td>\n",
       "      <td>W./C. 6607</td>\n",
       "      <td>23.4500</td>\n",
       "      <td>NaN</td>\n",
       "      <td>S</td>\n",
       "    </tr>\n",
       "    <tr>\n",
       "      <th>90</th>\n",
       "      <td>890</td>\n",
       "      <td>1</td>\n",
       "      <td>Behr, Mr. Karl Howell</td>\n",
       "      <td>male</td>\n",
       "      <td>26.00</td>\n",
       "      <td>0</td>\n",
       "      <td>0</td>\n",
       "      <td>111369</td>\n",
       "      <td>30.0000</td>\n",
       "      <td>C148</td>\n",
       "      <td>C</td>\n",
       "    </tr>\n",
       "    <tr>\n",
       "      <th>91</th>\n",
       "      <td>891</td>\n",
       "      <td>3</td>\n",
       "      <td>Dooley, Mr. Patrick</td>\n",
       "      <td>male</td>\n",
       "      <td>32.00</td>\n",
       "      <td>0</td>\n",
       "      <td>0</td>\n",
       "      <td>370376</td>\n",
       "      <td>7.7500</td>\n",
       "      <td>NaN</td>\n",
       "      <td>Q</td>\n",
       "    </tr>\n",
       "  </tbody>\n",
       "</table>\n",
       "<p>92 rows × 11 columns</p>\n",
       "</div>"
      ],
      "text/plain": [
       "    PassengerId  Pclass                                               Name  \\\n",
       "0           800       3  Van Impe, Mrs. Jean Baptiste (Rosalie Paula Go...   \n",
       "1           801       2                               Ponesell, Mr. Martin   \n",
       "2           802       2        Collyer, Mrs. Harvey (Charlotte Annie Tate)   \n",
       "3           803       1                Carter, Master. William Thornton II   \n",
       "4           804       3                    Thomas, Master. Assad Alexander   \n",
       "..          ...     ...                                                ...   \n",
       "87          887       2                              Montvila, Rev. Juozas   \n",
       "88          888       1                       Graham, Miss. Margaret Edith   \n",
       "89          889       3           Johnston, Miss. Catherine Helen \"Carrie\"   \n",
       "90          890       1                              Behr, Mr. Karl Howell   \n",
       "91          891       3                                Dooley, Mr. Patrick   \n",
       "\n",
       "       Sex    Age  SibSp  Parch      Ticket      Fare    Cabin Embarked  \n",
       "0   female  30.00      1      1      345773   24.1500      NaN        S  \n",
       "1     male  34.00      0      0      250647   13.0000      NaN        S  \n",
       "2   female  31.00      1      1  C.A. 31921   26.2500      NaN        S  \n",
       "3     male  11.00      1      2      113760  120.0000  B96 B98        S  \n",
       "4     male   0.42      0      1        2625    8.5167      NaN        C  \n",
       "..     ...    ...    ...    ...         ...       ...      ...      ...  \n",
       "87    male  27.00      0      0      211536   13.0000      NaN        S  \n",
       "88  female  19.00      0      0      112053   30.0000      B42        S  \n",
       "89  female    NaN      1      2  W./C. 6607   23.4500      NaN        S  \n",
       "90    male  26.00      0      0      111369   30.0000     C148        C  \n",
       "91    male  32.00      0      0      370376    7.7500      NaN        Q  \n",
       "\n",
       "[92 rows x 11 columns]"
      ]
     },
     "execution_count": 161,
     "metadata": {},
     "output_type": "execute_result"
    }
   ],
   "source": [
    "df_test"
   ]
  },
  {
   "cell_type": "code",
   "execution_count": 10,
   "id": "fa6c1336",
   "metadata": {
    "ExecuteTime": {
     "end_time": "2024-12-11T05:31:41.256710Z",
     "start_time": "2024-12-11T05:31:41.227699Z"
    }
   },
   "outputs": [
    {
     "name": "stdout",
     "output_type": "stream",
     "text": [
      "Pclass      0\n",
      "Sex         0\n",
      "Age         0\n",
      "SibSp       0\n",
      "Parch       0\n",
      "Fare        0\n",
      "Embarked    0\n",
      "dtype: int64\n",
      "    Pclass     Sex    Age  SibSp  Parch      Fare Embarked\n",
      "0        3  female  30.00      1      1   24.1500        S\n",
      "1        2    male  34.00      0      0   13.0000        S\n",
      "2        2  female  31.00      1      1   26.2500        S\n",
      "3        1    male  11.00      1      2  120.0000        S\n",
      "4        3    male   0.42      0      1    8.5167        C\n",
      "..     ...     ...    ...    ...    ...       ...      ...\n",
      "87       2    male  27.00      0      0   13.0000        S\n",
      "88       1  female  19.00      0      0   30.0000        S\n",
      "89       3  female  27.50      1      2   23.4500        S\n",
      "90       1    male  26.00      0      0   30.0000        C\n",
      "91       3    male  32.00      0      0    7.7500        Q\n",
      "\n",
      "[92 rows x 7 columns]\n"
     ]
    }
   ],
   "source": [
    "#test파일 결측치 처리 및 필요없는 컬럼 제거\n",
    "df_test_2=df_test\n",
    "df_test_2[\"Age\"]=df_test_2[\"Age\"].fillna(df_test_2[\"Age\"].median())\n",
    "df_test_2=df_test_2.drop([\"Cabin\",\"Name\",\"PassengerId\",\"Ticket\"],axis=1)\n",
    "df_test_2[\"Embarked\"]=df_test_2[\"Embarked\"].fillna(df_test_2[\"Embarked\"].mode()[0])\n",
    "print(df_test_2.isnull().sum())\n",
    "print(df_test_2)"
   ]
  },
  {
   "cell_type": "code",
   "execution_count": 163,
   "id": "0a2bdbf7",
   "metadata": {
    "ExecuteTime": {
     "end_time": "2024-12-02T11:25:41.725703Z",
     "start_time": "2024-12-02T11:25:41.702170Z"
    }
   },
   "outputs": [
    {
     "data": {
      "text/html": [
       "<div>\n",
       "<style scoped>\n",
       "    .dataframe tbody tr th:only-of-type {\n",
       "        vertical-align: middle;\n",
       "    }\n",
       "\n",
       "    .dataframe tbody tr th {\n",
       "        vertical-align: top;\n",
       "    }\n",
       "\n",
       "    .dataframe thead th {\n",
       "        text-align: right;\n",
       "    }\n",
       "</style>\n",
       "<table border=\"1\" class=\"dataframe\">\n",
       "  <thead>\n",
       "    <tr style=\"text-align: right;\">\n",
       "      <th></th>\n",
       "      <th>PassengerId</th>\n",
       "      <th>Survived</th>\n",
       "      <th>Pclass</th>\n",
       "      <th>Name</th>\n",
       "      <th>Sex</th>\n",
       "      <th>Age</th>\n",
       "      <th>SibSp</th>\n",
       "      <th>Parch</th>\n",
       "      <th>Ticket</th>\n",
       "      <th>Fare</th>\n",
       "      <th>Cabin</th>\n",
       "      <th>Embarked</th>\n",
       "    </tr>\n",
       "  </thead>\n",
       "  <tbody>\n",
       "    <tr>\n",
       "      <th>0</th>\n",
       "      <td>1</td>\n",
       "      <td>0</td>\n",
       "      <td>3</td>\n",
       "      <td>Braund, Mr. Owen Harris</td>\n",
       "      <td>male</td>\n",
       "      <td>22.0</td>\n",
       "      <td>1</td>\n",
       "      <td>0</td>\n",
       "      <td>A/5 21171</td>\n",
       "      <td>7.2500</td>\n",
       "      <td>NaN</td>\n",
       "      <td>S</td>\n",
       "    </tr>\n",
       "    <tr>\n",
       "      <th>1</th>\n",
       "      <td>2</td>\n",
       "      <td>1</td>\n",
       "      <td>1</td>\n",
       "      <td>Cumings, Mrs. John Bradley (Florence Briggs Th...</td>\n",
       "      <td>female</td>\n",
       "      <td>38.0</td>\n",
       "      <td>1</td>\n",
       "      <td>0</td>\n",
       "      <td>PC 17599</td>\n",
       "      <td>71.2833</td>\n",
       "      <td>C85</td>\n",
       "      <td>C</td>\n",
       "    </tr>\n",
       "    <tr>\n",
       "      <th>2</th>\n",
       "      <td>3</td>\n",
       "      <td>1</td>\n",
       "      <td>3</td>\n",
       "      <td>Heikkinen, Miss. Laina</td>\n",
       "      <td>female</td>\n",
       "      <td>26.0</td>\n",
       "      <td>0</td>\n",
       "      <td>0</td>\n",
       "      <td>STON/O2. 3101282</td>\n",
       "      <td>7.9250</td>\n",
       "      <td>NaN</td>\n",
       "      <td>S</td>\n",
       "    </tr>\n",
       "    <tr>\n",
       "      <th>3</th>\n",
       "      <td>4</td>\n",
       "      <td>1</td>\n",
       "      <td>1</td>\n",
       "      <td>Futrelle, Mrs. Jacques Heath (Lily May Peel)</td>\n",
       "      <td>female</td>\n",
       "      <td>35.0</td>\n",
       "      <td>1</td>\n",
       "      <td>0</td>\n",
       "      <td>113803</td>\n",
       "      <td>53.1000</td>\n",
       "      <td>C123</td>\n",
       "      <td>S</td>\n",
       "    </tr>\n",
       "    <tr>\n",
       "      <th>4</th>\n",
       "      <td>5</td>\n",
       "      <td>0</td>\n",
       "      <td>3</td>\n",
       "      <td>Allen, Mr. William Henry</td>\n",
       "      <td>male</td>\n",
       "      <td>35.0</td>\n",
       "      <td>0</td>\n",
       "      <td>0</td>\n",
       "      <td>373450</td>\n",
       "      <td>8.0500</td>\n",
       "      <td>NaN</td>\n",
       "      <td>S</td>\n",
       "    </tr>\n",
       "  </tbody>\n",
       "</table>\n",
       "</div>"
      ],
      "text/plain": [
       "   PassengerId  Survived  Pclass  \\\n",
       "0            1         0       3   \n",
       "1            2         1       1   \n",
       "2            3         1       3   \n",
       "3            4         1       1   \n",
       "4            5         0       3   \n",
       "\n",
       "                                                Name     Sex   Age  SibSp  \\\n",
       "0                            Braund, Mr. Owen Harris    male  22.0      1   \n",
       "1  Cumings, Mrs. John Bradley (Florence Briggs Th...  female  38.0      1   \n",
       "2                             Heikkinen, Miss. Laina  female  26.0      0   \n",
       "3       Futrelle, Mrs. Jacques Heath (Lily May Peel)  female  35.0      1   \n",
       "4                           Allen, Mr. William Henry    male  35.0      0   \n",
       "\n",
       "   Parch            Ticket     Fare Cabin Embarked  \n",
       "0      0         A/5 21171   7.2500   NaN        S  \n",
       "1      0          PC 17599  71.2833   C85        C  \n",
       "2      0  STON/O2. 3101282   7.9250   NaN        S  \n",
       "3      0            113803  53.1000  C123        S  \n",
       "4      0            373450   8.0500   NaN        S  "
      ]
     },
     "execution_count": 163,
     "metadata": {},
     "output_type": "execute_result"
    }
   ],
   "source": [
    "df_train.head()"
   ]
  },
  {
   "cell_type": "code",
   "execution_count": 11,
   "id": "c93f3619",
   "metadata": {
    "ExecuteTime": {
     "end_time": "2024-12-11T05:31:52.219929Z",
     "start_time": "2024-12-11T05:31:52.209943Z"
    }
   },
   "outputs": [
    {
     "data": {
      "text/plain": [
       "(799, 12)"
      ]
     },
     "execution_count": 11,
     "metadata": {},
     "output_type": "execute_result"
    }
   ],
   "source": [
    "#데이터 형태 확인\n",
    "df_train.shape"
   ]
  },
  {
   "cell_type": "code",
   "execution_count": 12,
   "id": "5f71ad06",
   "metadata": {
    "ExecuteTime": {
     "end_time": "2024-12-11T05:31:53.581196Z",
     "start_time": "2024-12-11T05:31:53.556721Z"
    }
   },
   "outputs": [
    {
     "name": "stdout",
     "output_type": "stream",
     "text": [
      "PassengerId    799\n",
      "Survived         2\n",
      "Pclass           3\n",
      "Name           799\n",
      "Sex              2\n",
      "Age             85\n",
      "SibSp            7\n",
      "Parch            7\n",
      "Ticket         625\n",
      "Fare           234\n",
      "Cabin          136\n",
      "Embarked         3\n",
      "dtype: int64\n",
      "The categorical cols are : ['Pclass', 'Sex', 'SibSp', 'Parch', 'Embarked']\n",
      "The continuous cols are: ['PassengerId', 'Name', 'Age', 'Ticket', 'Fare', 'Cabin']\n",
      "The target variable is: ['Survived']\n"
     ]
    }
   ],
   "source": [
    "#데이터를 컬럼별로 나눠봄\n",
    "print(df_train.nunique())\n",
    "cat_cols = ['Pclass','Sex','SibSp','Parch','Embarked']\n",
    "con_cols=[\"PassengerId\",'Name','Age','Ticket','Fare','Cabin']\n",
    "target_col = ['Survived']\n",
    "print(\"The categorical cols are :\",cat_cols)\n",
    "print(\"The continuous cols are:\",con_cols)\n",
    "print(\"The target variable is:\",target_col)"
   ]
  },
  {
   "cell_type": "code",
   "execution_count": 13,
   "id": "f439fd1a",
   "metadata": {
    "ExecuteTime": {
     "end_time": "2024-12-11T05:32:11.479986Z",
     "start_time": "2024-12-11T05:32:11.445368Z"
    }
   },
   "outputs": [
    {
     "data": {
      "text/html": [
       "<div>\n",
       "<style scoped>\n",
       "    .dataframe tbody tr th:only-of-type {\n",
       "        vertical-align: middle;\n",
       "    }\n",
       "\n",
       "    .dataframe tbody tr th {\n",
       "        vertical-align: top;\n",
       "    }\n",
       "\n",
       "    .dataframe thead th {\n",
       "        text-align: right;\n",
       "    }\n",
       "</style>\n",
       "<table border=\"1\" class=\"dataframe\">\n",
       "  <thead>\n",
       "    <tr style=\"text-align: right;\">\n",
       "      <th></th>\n",
       "      <th>count</th>\n",
       "      <th>mean</th>\n",
       "      <th>std</th>\n",
       "      <th>min</th>\n",
       "      <th>25%</th>\n",
       "      <th>50%</th>\n",
       "      <th>75%</th>\n",
       "      <th>max</th>\n",
       "    </tr>\n",
       "  </thead>\n",
       "  <tbody>\n",
       "    <tr>\n",
       "      <th>PassengerId</th>\n",
       "      <td>799.0</td>\n",
       "      <td>400.000000</td>\n",
       "      <td>230.795725</td>\n",
       "      <td>1.00</td>\n",
       "      <td>200.500</td>\n",
       "      <td>400.0</td>\n",
       "      <td>599.500</td>\n",
       "      <td>799.0000</td>\n",
       "    </tr>\n",
       "    <tr>\n",
       "      <th>Age</th>\n",
       "      <td>636.0</td>\n",
       "      <td>29.870943</td>\n",
       "      <td>14.555748</td>\n",
       "      <td>0.67</td>\n",
       "      <td>21.000</td>\n",
       "      <td>28.0</td>\n",
       "      <td>38.000</td>\n",
       "      <td>80.0000</td>\n",
       "    </tr>\n",
       "    <tr>\n",
       "      <th>Fare</th>\n",
       "      <td>799.0</td>\n",
       "      <td>33.049660</td>\n",
       "      <td>51.556263</td>\n",
       "      <td>0.00</td>\n",
       "      <td>7.925</td>\n",
       "      <td>14.5</td>\n",
       "      <td>31.275</td>\n",
       "      <td>512.3292</td>\n",
       "    </tr>\n",
       "  </tbody>\n",
       "</table>\n",
       "</div>"
      ],
      "text/plain": [
       "             count        mean         std   min      25%    50%      75%  \\\n",
       "PassengerId  799.0  400.000000  230.795725  1.00  200.500  400.0  599.500   \n",
       "Age          636.0   29.870943   14.555748  0.67   21.000   28.0   38.000   \n",
       "Fare         799.0   33.049660   51.556263  0.00    7.925   14.5   31.275   \n",
       "\n",
       "                  max  \n",
       "PassengerId  799.0000  \n",
       "Age           80.0000  \n",
       "Fare         512.3292  "
      ]
     },
     "execution_count": 13,
     "metadata": {},
     "output_type": "execute_result"
    }
   ],
   "source": [
    "df_train[con_cols].describe().transpose()"
   ]
  },
  {
   "cell_type": "code",
   "execution_count": 14,
   "id": "9b6b181d",
   "metadata": {
    "ExecuteTime": {
     "end_time": "2024-12-11T05:32:21.990520Z",
     "start_time": "2024-12-11T05:32:21.963980Z"
    }
   },
   "outputs": [
    {
     "data": {
      "text/plain": [
       "PassengerId      0\n",
       "Survived         0\n",
       "Pclass           0\n",
       "Name             0\n",
       "Sex              0\n",
       "Age            163\n",
       "SibSp            0\n",
       "Parch            0\n",
       "Ticket           0\n",
       "Fare             0\n",
       "Cabin          614\n",
       "Embarked         1\n",
       "dtype: int64"
      ]
     },
     "execution_count": 14,
     "metadata": {},
     "output_type": "execute_result"
    }
   ],
   "source": [
    "#결측치 학인\n",
    "df_train.isnull().sum()"
   ]
  },
  {
   "cell_type": "code",
   "execution_count": 15,
   "id": "39c8f2ac",
   "metadata": {
    "ExecuteTime": {
     "end_time": "2024-12-11T05:32:24.808058Z",
     "start_time": "2024-12-11T05:32:24.767996Z"
    }
   },
   "outputs": [
    {
     "name": "stdout",
     "output_type": "stream",
     "text": [
      "<class 'pandas.core.frame.DataFrame'>\n",
      "RangeIndex: 799 entries, 0 to 798\n",
      "Data columns (total 12 columns):\n",
      " #   Column       Non-Null Count  Dtype  \n",
      "---  ------       --------------  -----  \n",
      " 0   PassengerId  799 non-null    int64  \n",
      " 1   Survived     799 non-null    int64  \n",
      " 2   Pclass       799 non-null    int64  \n",
      " 3   Name         799 non-null    object \n",
      " 4   Sex          799 non-null    object \n",
      " 5   Age          636 non-null    float64\n",
      " 6   SibSp        799 non-null    int64  \n",
      " 7   Parch        799 non-null    int64  \n",
      " 8   Ticket       799 non-null    object \n",
      " 9   Fare         799 non-null    float64\n",
      " 10  Cabin        185 non-null    object \n",
      " 11  Embarked     798 non-null    object \n",
      "dtypes: float64(2), int64(5), object(5)\n",
      "memory usage: 75.0+ KB\n",
      "None\n"
     ]
    }
   ],
   "source": [
    "# 기본 정보 확인\n",
    "print(df_train.info())"
   ]
  },
  {
   "cell_type": "code",
   "execution_count": 16,
   "id": "a2136942",
   "metadata": {
    "ExecuteTime": {
     "end_time": "2024-12-11T05:32:27.063132Z",
     "start_time": "2024-12-11T05:32:26.728412Z"
    }
   },
   "outputs": [
    {
     "data": {
      "image/png": "[encoded data removed]",
      "text/plain": [
       "<Figure size 1400x700 with 1 Axes>"
      ]
     },
     "metadata": {},
     "output_type": "display_data"
    }
   ],
   "source": [
    "# 분포 확인\n",
    "plt.figure(figsize=(14, 7))\n",
    "sns.countplot(x=\"Survived\", data=df_train, palette=\"Blues\")\n",
    "plt.title(\"Survival Distribution\")\n",
    "plt.show()"
   ]
  },
  {
   "cell_type": "code",
   "execution_count": 17,
   "id": "8c54ca16",
   "metadata": {
    "ExecuteTime": {
     "end_time": "2024-12-11T05:32:28.029205Z",
     "start_time": "2024-12-11T05:32:27.733384Z"
    }
   },
   "outputs": [
    {
     "data": {
      "image/png": "[encoded data removed]",
      "text/plain": [
       "<Figure size 1400x700 with 1 Axes>"
      ]
     },
     "metadata": {},
     "output_type": "display_data"
    }
   ],
   "source": [
    "# 객실 등급별 생존율 확인\n",
    "plt.figure(figsize=(14, 7))\n",
    "sns.barplot(x=\"Pclass\", y=\"Survived\", data=df_train, palette=\"Blues\")\n",
    "plt.title(\"Survival Rate by Pclass\")\n",
    "plt.show()\n"
   ]
  },
  {
   "cell_type": "code",
   "execution_count": 18,
   "id": "a8ac3b86",
   "metadata": {
    "ExecuteTime": {
     "end_time": "2024-12-11T05:32:28.758493Z",
     "start_time": "2024-12-11T05:32:28.725161Z"
    }
   },
   "outputs": [
    {
     "name": "stdout",
     "output_type": "stream",
     "text": [
      "    Pclass     Sex    Age  SibSp  Parch      Fare Embarked\n",
      "0        3  female  30.00      1      1   24.1500        S\n",
      "1        2    male  34.00      0      0   13.0000        S\n",
      "2        2  female  31.00      1      1   26.2500        S\n",
      "3        1    male  11.00      1      2  120.0000        S\n",
      "4        3    male   0.42      0      1    8.5167        C\n",
      "..     ...     ...    ...    ...    ...       ...      ...\n",
      "87       2    male  27.00      0      0   13.0000        S\n",
      "88       1  female  19.00      0      0   30.0000        S\n",
      "89       3  female  27.50      1      2   23.4500        S\n",
      "90       1    male  26.00      0      0   30.0000        C\n",
      "91       3    male  32.00      0      0    7.7500        Q\n",
      "\n",
      "[92 rows x 7 columns]\n",
      "     Survived  Pclass     Sex   Age  SibSp  Parch     Fare Embarked\n",
      "0           0       3    male  22.0      1      0   7.2500        S\n",
      "1           1       1  female  38.0      1      0  71.2833        C\n",
      "2           1       3  female  26.0      0      0   7.9250        S\n",
      "3           1       1  female  35.0      1      0  53.1000        S\n",
      "4           0       3    male  35.0      0      0   8.0500        S\n",
      "..        ...     ...     ...   ...    ...    ...      ...      ...\n",
      "794         0       3    male  25.0      0      0   7.8958        S\n",
      "795         0       2    male  39.0      0      0  13.0000        S\n",
      "796         1       1  female  49.0      0      0  25.9292        S\n",
      "797         1       3  female  31.0      0      0   8.6833        S\n",
      "798         0       3    male  30.0      0      0   7.2292        C\n",
      "\n",
      "[799 rows x 8 columns]\n"
     ]
    }
   ],
   "source": [
    "#train파일 결측치 처리 및 필요없는 컬럼 제거\n",
    "df_train_2=df_train\n",
    "df_train_2[\"Age\"]=df_train_2[\"Age\"].fillna(df_train_2[\"Age\"].median())\n",
    "df_train_2=df_train.drop([\"PassengerId\", \"Name\", \"Ticket\", \"Cabin\"], axis=1)\n",
    "df_train_2[\"Embarked\"]=df_train_2[\"Embarked\"].fillna(df_train[\"Embarked\"].mode()[0])\n",
    "\n",
    "print(df_test_2)\n",
    "print(df_train_2)"
   ]
  },
  {
   "cell_type": "code",
   "execution_count": 19,
   "id": "ed359820",
   "metadata": {
    "ExecuteTime": {
     "end_time": "2024-12-11T05:32:35.086286Z",
     "start_time": "2024-12-11T05:32:35.068566Z"
    }
   },
   "outputs": [],
   "source": [
    "cat_cols_2 =['Pclass','Sex','SibSp','Parch','Embarked']"
   ]
  },
  {
   "cell_type": "code",
   "execution_count": 20,
   "id": "593b48e7",
   "metadata": {
    "ExecuteTime": {
     "end_time": "2024-12-11T05:32:35.856918Z",
     "start_time": "2024-12-11T05:32:35.832748Z"
    }
   },
   "outputs": [
    {
     "name": "stdout",
     "output_type": "stream",
     "text": [
      "     Survived   Age     Fare  Pclass_2  Pclass_3  Sex_male  SibSp_1  SibSp_2  \\\n",
      "0           0  22.0   7.2500         0         1         1        1        0   \n",
      "1           1  38.0  71.2833         0         0         0        1        0   \n",
      "2           1  26.0   7.9250         0         1         0        0        0   \n",
      "3           1  35.0  53.1000         0         0         0        1        0   \n",
      "4           0  35.0   8.0500         0         1         1        0        0   \n",
      "..        ...   ...      ...       ...       ...       ...      ...      ...   \n",
      "794         0  25.0   7.8958         0         1         1        0        0   \n",
      "795         0  39.0  13.0000         1         0         1        0        0   \n",
      "796         1  49.0  25.9292         0         0         0        0        0   \n",
      "797         1  31.0   8.6833         0         1         0        0        0   \n",
      "798         0  30.0   7.2292         0         1         1        0        0   \n",
      "\n",
      "     SibSp_3  SibSp_4  SibSp_5  SibSp_8  Parch_1  Parch_2  Parch_3  Parch_4  \\\n",
      "0          0        0        0        0        0        0        0        0   \n",
      "1          0        0        0        0        0        0        0        0   \n",
      "2          0        0        0        0        0        0        0        0   \n",
      "3          0        0        0        0        0        0        0        0   \n",
      "4          0        0        0        0        0        0        0        0   \n",
      "..       ...      ...      ...      ...      ...      ...      ...      ...   \n",
      "794        0        0        0        0        0        0        0        0   \n",
      "795        0        0        0        0        0        0        0        0   \n",
      "796        0        0        0        0        0        0        0        0   \n",
      "797        0        0        0        0        0        0        0        0   \n",
      "798        0        0        0        0        0        0        0        0   \n",
      "\n",
      "     Parch_5  Parch_6  Embarked_Q  Embarked_S  \n",
      "0          0        0           0           1  \n",
      "1          0        0           0           0  \n",
      "2          0        0           0           1  \n",
      "3          0        0           0           1  \n",
      "4          0        0           0           1  \n",
      "..       ...      ...         ...         ...  \n",
      "794        0        0           0           1  \n",
      "795        0        0           0           1  \n",
      "796        0        0           0           1  \n",
      "797        0        0           0           1  \n",
      "798        0        0           0           0  \n",
      "\n",
      "[799 rows x 20 columns]\n"
     ]
    }
   ],
   "source": [
    "# df_train_2 즉, train 데이터를 ont-hot 인코딩\n",
    "df_train_2 = pd.get_dummies(df_train_2,columns=cat_cols_2,drop_first=True)\n",
    "print(df_train_2)"
   ]
  },
  {
   "cell_type": "code",
   "execution_count": 21,
   "id": "8434e8ed",
   "metadata": {
    "ExecuteTime": {
     "end_time": "2024-12-11T05:32:39.100390Z",
     "start_time": "2024-12-11T05:32:39.085064Z"
    }
   },
   "outputs": [],
   "source": [
    "# df_test_2 즉, test데이터를 ont-hot 인코딩\n",
    "df_test_2 = pd.get_dummies(df_test_2,columns=cat_cols_2,drop_first=True)"
   ]
  },
  {
   "cell_type": "code",
   "execution_count": 25,
   "id": "e16fb7fa",
   "metadata": {
    "ExecuteTime": {
     "end_time": "2024-12-11T05:32:51.155907Z",
     "start_time": "2024-12-11T05:32:51.143615Z"
    }
   },
   "outputs": [],
   "source": [
    "# 테스트 데이터에 누락된 열 추가\n",
    "missing_cols = set(X_train.columns) - set(X_test.columns)\n",
    "for col in missing_cols:\n",
    "    df_test_2[col] = 0"
   ]
  },
  {
   "cell_type": "code",
   "execution_count": 23,
   "id": "04b7c1f5",
   "metadata": {
    "ExecuteTime": {
     "end_time": "2024-12-11T05:32:45.324814Z",
     "start_time": "2024-12-11T05:32:45.312502Z"
    }
   },
   "outputs": [
    {
     "name": "stdout",
     "output_type": "stream",
     "text": [
      "      Age      Fare  Pclass_2  Pclass_3  Sex_male  SibSp_1  SibSp_2  SibSp_3  \\\n",
      "0   30.00   24.1500         0         1         0        1        0        0   \n",
      "1   34.00   13.0000         1         0         1        0        0        0   \n",
      "2   31.00   26.2500         1         0         0        1        0        0   \n",
      "3   11.00  120.0000         0         0         1        1        0        0   \n",
      "4    0.42    8.5167         0         1         1        0        0        0   \n",
      "..    ...       ...       ...       ...       ...      ...      ...      ...   \n",
      "87  27.00   13.0000         1         0         1        0        0        0   \n",
      "88  19.00   30.0000         0         0         0        0        0        0   \n",
      "89  27.50   23.4500         0         1         0        1        0        0   \n",
      "90  26.00   30.0000         0         0         1        0        0        0   \n",
      "91  32.00    7.7500         0         1         1        0        0        0   \n",
      "\n",
      "    SibSp_4  SibSp_8  Parch_1  Parch_2  Parch_3  Parch_5  Embarked_Q  \\\n",
      "0         0        0        1        0        0        0           0   \n",
      "1         0        0        0        0        0        0           0   \n",
      "2         0        0        1        0        0        0           0   \n",
      "3         0        0        0        1        0        0           0   \n",
      "4         0        0        1        0        0        0           0   \n",
      "..      ...      ...      ...      ...      ...      ...         ...   \n",
      "87        0        0        0        0        0        0           0   \n",
      "88        0        0        0        0        0        0           0   \n",
      "89        0        0        0        1        0        0           0   \n",
      "90        0        0        0        0        0        0           0   \n",
      "91        0        0        0        0        0        0           1   \n",
      "\n",
      "    Embarked_S  \n",
      "0            1  \n",
      "1            1  \n",
      "2            1  \n",
      "3            1  \n",
      "4            0  \n",
      "..         ...  \n",
      "87           1  \n",
      "88           1  \n",
      "89           1  \n",
      "90           0  \n",
      "91           0  \n",
      "\n",
      "[92 rows x 16 columns]\n"
     ]
    }
   ],
   "source": [
    "print(df_test_2)"
   ]
  },
  {
   "cell_type": "code",
   "execution_count": 30,
   "id": "14abf14c",
   "metadata": {
    "ExecuteTime": {
     "end_time": "2024-12-11T05:33:09.748510Z",
     "start_time": "2024-12-11T05:33:09.705782Z"
    }
   },
   "outputs": [
    {
     "name": "stdout",
     "output_type": "stream",
     "text": [
      "X_train의 shape (639, 19)\n",
      "y_train의 shape (639, 1)\n",
      "X_test의 shape (160, 19)\n",
      "y_test의 shpae (160, 1)\n",
      "test.csv로 받은 unseendat의 shape: (92, 16)\n",
      "train 데이터 accuracy 점수: 0.7668231611893583\n"
     ]
    }
   ],
   "source": [
    "#LogisticRegression 만들어 학습시키고 accuracy 측정\n",
    "from sklearn.model_selection import train_test_split\n",
    "from sklearn.linear_model import LogisticRegression\n",
    "from sklearn.metrics import accuracy_score, classification_report, confusion_matrix\n",
    "\n",
    "logreg=LogisticRegression(penalty='none', C=0.00001,max_iter=10)\n",
    "\n",
    "X=df_train_2.drop([\"Survived\"],axis=1)\n",
    "y=df_train_2[[\"Survived\"]]\n",
    "X_train,X_test,y_train,y_test = train_test_split(X,y,test_size=0.2,random_state=42)\n",
    "unseendata=df_test_2\n",
    "print(\"X_train의 shape\",X_train.shape)\n",
    "print(\"y_train의 shape\",y_train.shape)\n",
    "print(\"X_test의 shape\",X_test.shape)\n",
    "print(\"y_test의 shpae\",y_test.shape)\n",
    "print(\"test.csv로 받은 unseendat의 shape:\",unseendata.shape)\n",
    "\n",
    "\n",
    "logreg.fit(X_train, y_train)\n",
    "\n",
    "print(\"train 데이터 accuracy 점수:\",accuracy_score(y_train,logreg.predict(X_train)))\n",
    "\n",
    "\n"
   ]
  },
  {
   "cell_type": "code",
   "execution_count": 31,
   "id": "112d601d",
   "metadata": {
    "ExecuteTime": {
     "end_time": "2024-12-11T05:41:38.623762Z",
     "start_time": "2024-12-11T05:41:38.601770Z"
    }
   },
   "outputs": [
    {
     "name": "stdout",
     "output_type": "stream",
     "text": [
      "(160, 2)\n",
      "test 데이터의 accuracy 점수: 0.75\n"
     ]
    }
   ],
   "source": [
    "#X_test에 대한 accuracy 측정\n",
    "y_pred_proba= logreg.predict_proba(X_test)\n",
    "y_pred = np.argmax(y_pred_proba,axis=1)\n",
    "print(y_pred_proba.shape)\n",
    "\n",
    "print(\"test 데이터의 accuracy 점수:\",accuracy_score(y_test,y_pred))"
   ]
  },
  {
   "cell_type": "code",
   "execution_count": 29,
   "id": "1cc87ed9",
   "metadata": {
    "ExecuteTime": {
     "end_time": "2024-12-11T05:33:02.935830Z",
     "start_time": "2024-12-11T05:33:02.782573Z"
    }
   },
   "outputs": [
    {
     "data": {
      "image/png": "[encoded data removed]",
      "text/plain": [
       "<Figure size 600x400 with 1 Axes>"
      ]
     },
     "metadata": {},
     "output_type": "display_data"
    }
   ],
   "source": [
    "#다른 방법으로 측정 (자세한건 한글파일에)\n",
    "cm = confusion_matrix(y_test, y_pred)\n",
    "plt.figure(figsize=(6,4))\n",
    "sns.heatmap(cm,annot=True,fmt='d',cmap='Blues',cbar=False)\n",
    "plt.xlabel('Predicted')\n",
    "plt.ylabel('Actual')\n",
    "plt.title('Confusion Matrix')\n",
    "plt.show()"
   ]
  },
  {
   "cell_type": "code",
   "execution_count": 204,
   "id": "0ea41436",
   "metadata": {
    "ExecuteTime": {
     "end_time": "2024-12-02T12:07:13.613355Z",
     "start_time": "2024-12-02T12:07:13.592526Z"
    }
   },
   "outputs": [
    {
     "name": "stdout",
     "output_type": "stream",
     "text": [
      "[1 0 1 1 0 0 0 0 0 0 1 0 0 0 0 0 0 0 0 0 0 1 0 0 0 0 0 0 0 0 1 0 0 0 0 0 1\n",
      " 0 0 0 0 0 0 1 0 0 0 0 0 0 1 0 0 0 1 1 0 1 0 0 0 0 0 1 1 0 1 1 0 0 0 0 1 0\n",
      " 0 1 0 0 0 0 1 1 0 0 0 0 1 0 1 1 0 0]\n"
     ]
    }
   ],
   "source": [
    "#테스트 데이터에 대한 예측 (test.csv)\n",
    "unseendata_pred_proba = logreg.predict_proba(unseendata)\n",
    "unseendata_pred = np.argmax(unseendata_pred_proba,axis=1)\n",
    "print(unseendata_pred)"
   ]
  },
  {
   "cell_type": "code",
   "execution_count": 206,
   "id": "76f058ab",
   "metadata": {
    "ExecuteTime": {
     "end_time": "2024-12-02T12:10:34.537966Z",
     "start_time": "2024-12-02T12:10:34.476570Z"
    }
   },
   "outputs": [],
   "source": [
    "# 예측값 unseendata_pred를 새로운 컬럼 'Survived'에 추가\n",
    "df_test[\"Survived\"] = unseendata_pred\n",
    "\n",
    "# 수정된 데이터를 새로운 CSV 파일로 저장\n",
    "output_file = \"test_with_predictions.csv\"\n",
    "df_test.to_csv(output_file, index=False)\n",
    "\n",
    "\n"
   ]
  },
  {
   "cell_type": "code",
   "execution_count": 34,
   "id": "1be8679b",
   "metadata": {
    "ExecuteTime": {
     "end_time": "2024-12-11T23:58:13.283562Z",
     "start_time": "2024-12-11T23:58:13.255510Z"
    }
   },
   "outputs": [
    {
     "data": {
      "text/plain": [
       "0.19047619047619047"
      ]
     },
     "execution_count": 34,
     "metadata": {},
     "output_type": "execute_result"
    }
   ],
   "source": [
    "n1 = 6/14\n",
    "n2 = 1\n",
    "n3=(4/6)**2\n",
    "n4=(2/6)**2\n",
    "n1*(n2-n3-n4)"
   ]
  }
 ],
 "metadata": {
  "kernelspec": {
   "display_name": "Python 3 (ipykernel)",
   "language": "python",
   "name": "python3"
  },
  "language_info": {
   "codemirror_mode": {
    "name": "ipython",
    "version": 3
   },
   "file_extension": ".py",
   "mimetype": "text/x-python",
   "name": "python",
   "nbconvert_exporter": "python",
   "pygments_lexer": "ipython3",
   "version": "3.9.13"
  }
 },
 "nbformat": 4,
 "nbformat_minor": 5
}
